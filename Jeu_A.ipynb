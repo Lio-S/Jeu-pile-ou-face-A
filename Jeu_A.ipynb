{
 "cells": [
  {
   "cell_type": "markdown",
   "id": "8584ffe2-f76a-4c64-93b1-46316a2d38ec",
   "metadata": {
    "tags": []
   },
   "source": [
    "Simple jeu de pile ou face avec une pièce biaisée (pile avec une probabilité de p=0.49). \n",
    "Le joueur mise un euro et lance la pièce : s’il obtient pile il gagne un euro en plus de récupérer sa mise, sinon il perd sa mise.\n",
    "Mise de départ 1000 euros."
   ]
  },
  {
   "cell_type": "code",
   "execution_count": 39,
   "id": "1ea3963c-b482-4848-a6aa-f23417a166fd",
   "metadata": {},
   "outputs": [
    {
     "name": "stdin",
     "output_type": "stream",
     "text": [
      " 10\n"
     ]
    },
    {
     "name": "stdout",
     "output_type": "stream",
     "text": [
      "Après 10 lancés, le capital est de 998 euros\n"
     ]
    }
   ],
   "source": [
    "capital = 1000\n",
    "nombreDeLances = int(input())\n",
    "\n",
    "import random\n",
    "\n",
    "def pile_0_49():\n",
    "    if random.uniform(0,1) <= 0.49 :\n",
    "        return 'pile'\n",
    "    else:\n",
    "        return 'face'\n",
    "    \n",
    "for i in range(nombreDeLances):\n",
    "    if pile_0_49() =='pile':\n",
    "        capital += 1\n",
    "    else:\n",
    "        capital -= 1\n",
    "    \n",
    "print(\"Après\", nombreDeLances, \"lancés, le capital est de\", capital, 'euros')"
   ]
  },
  {
   "cell_type": "code",
   "execution_count": null,
   "id": "3be0249a-bda7-43ab-acf5-bae0792c5ca1",
   "metadata": {},
   "outputs": [],
   "source": []
  },
  {
   "cell_type": "code",
   "execution_count": null,
   "id": "9c3ab679-96c7-4d81-9b2c-ee721ab3588c",
   "metadata": {},
   "outputs": [],
   "source": []
  }
 ],
 "metadata": {
  "kernelspec": {
   "display_name": "Python 3 (ipykernel)",
   "language": "python",
   "name": "python3"
  },
  "language_info": {
   "codemirror_mode": {
    "name": "ipython",
    "version": 3
   },
   "file_extension": ".py",
   "mimetype": "text/x-python",
   "name": "python",
   "nbconvert_exporter": "python",
   "pygments_lexer": "ipython3",
   "version": "3.10.4"
  }
 },
 "nbformat": 4,
 "nbformat_minor": 5
}
