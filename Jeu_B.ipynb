{
 "cells": [
  {
   "cell_type": "markdown",
   "id": "5ea06ed1-909e-492b-9a5b-c380ea6f0c55",
   "metadata": {
    "tags": []
   },
   "source": [
    "Jeu avec deux pièces biaisées. La première pièce donne pile avec une probabilité p1 = 0.09 et la seconde pièce donne pile avec une probabilité p2 = 0.74. Le joueur de ne peut miser qu’un euro à la fois ! En revanche, on regarde à chaque lancé son capital (la somme d’argent total) dont il dispose pour déterminer quelle pièce lancer : si le capital est un multiple de 3, on lance la pièce numéro une, sinon on lance la seconde pièce.\n",
    "Mise de départ 1000 euros"
   ]
  },
  {
   "cell_type": "code",
   "execution_count": 4,
   "id": "01aba131-96ff-4aca-970e-4611a9eed8d7",
   "metadata": {
    "tags": []
   },
   "outputs": [
    {
     "name": "stdin",
     "output_type": "stream",
     "text": [
      " 100000\n"
     ]
    },
    {
     "name": "stdout",
     "output_type": "stream",
     "text": [
      "Après 100000 lancés, le capital est de -1006 euros\n"
     ]
    }
   ],
   "source": [
    "capital = 1000\n",
    "nombreDeLances = int(input())\n",
    "\n",
    "import random\n",
    "\n",
    "def pile_0_09():\n",
    "    if random.uniform(0,1)<= 0.09:\n",
    "        return 'pile'\n",
    "    else:\n",
    "        return 'face'\n",
    "def pile_0_74():\n",
    "    if random.uniform(0,1)<= 0.74:\n",
    "        return 'pile'\n",
    "    else:\n",
    "        return 'face'\n",
    "\n",
    "for i in range (nombreDeLances):\n",
    "    if capital%3 == 0:\n",
    "        if pile_0_09() == 'pile':\n",
    "            capital += 1\n",
    "        else:\n",
    "            capital -= 1\n",
    "    else:\n",
    "        if pile_0_74() == 'pile':\n",
    "            capital += 1\n",
    "        else:\n",
    "            capital -= 1\n",
    "    \n",
    "print(\"Après\", nombreDeLances, \"lancés, le capital est de\", capital, 'euros')"
   ]
  },
  {
   "cell_type": "code",
   "execution_count": null,
   "id": "25b0e41e-6af1-455d-a465-ecf04a93affe",
   "metadata": {},
   "outputs": [],
   "source": []
  }
 ],
 "metadata": {
  "kernelspec": {
   "display_name": "Python 3 (ipykernel)",
   "language": "python",
   "name": "python3"
  },
  "language_info": {
   "codemirror_mode": {
    "name": "ipython",
    "version": 3
   },
   "file_extension": ".py",
   "mimetype": "text/x-python",
   "name": "python",
   "nbconvert_exporter": "python",
   "pygments_lexer": "ipython3",
   "version": "3.10.4"
  }
 },
 "nbformat": 4,
 "nbformat_minor": 5
}
