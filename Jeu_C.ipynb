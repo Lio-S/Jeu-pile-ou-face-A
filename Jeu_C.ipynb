{
 "cells": [
  {
   "cell_type": "markdown",
   "id": "97eadf26-1e77-4fae-ba99-69ea4092e76a",
   "metadata": {},
   "source": [
    "A chaque tour, on lance une pièce (cette fois-ci...) équilibrée ! Si l'on a pile, on joue au jeu A, sinon on joue au jeu B.\n",
    "Mise de départ 1000 euros.\n",
    "Nombre de lancés = 1.000.000"
   ]
  },
  {
   "cell_type": "code",
   "execution_count": 2,
   "id": "009bdd3f-3a5d-4fe6-be19-e09354e8bb2f",
   "metadata": {
    "tags": []
   },
   "outputs": [
    {
     "name": "stdout",
     "output_type": "stream",
     "text": [
      "Après 1000000 lancés, le capital est de 6636 euros\n"
     ]
    }
   ],
   "source": [
    "capital = 1000\n",
    "nombreDeLances = 1000000\n",
    "\n",
    "import random\n",
    "\n",
    "\n",
    "def pile_0_49():\n",
    "    if random.uniform(0,1) <= 0.49 :\n",
    "        return 'pile'\n",
    "    else:\n",
    "        return 'face'\n",
    "def pile_0_09():\n",
    "    if random.uniform(0,1)<= 0.09:\n",
    "        return 'pile'\n",
    "    else:\n",
    "        return 'face'\n",
    "def pile_0_74():\n",
    "    if random.uniform(0,1)<= 0.74:\n",
    "        return 'pile'\n",
    "    else:\n",
    "        return 'face'\n",
    "\n",
    "\n",
    "\n",
    "for i in range(nombreDeLances):\n",
    "    if random.randint(0,1)==0:         # Une chance sur deux d'avoir pile \n",
    "        if pile_0_49() =='pile':       # et donc le jeu A\n",
    "            capital += 1\n",
    "        else:\n",
    "            capital -= 1\n",
    "    else:                              # sinon Jeu B\n",
    "        if capital % 3 == 0:\n",
    "            if pile_0_09() == 'pile':\n",
    "                capital += 1\n",
    "            else:\n",
    "                capital -= 1\n",
    "        else:\n",
    "            if pile_0_74() == 'pile':\n",
    "                capital += 1\n",
    "            else:\n",
    "                capital -= 1\n",
    "    \n",
    "print(\"Après\", nombreDeLances, \"lancés, le capital est de\", capital, 'euros')"
   ]
  },
  {
   "cell_type": "code",
   "execution_count": null,
   "id": "aadd3ab0-966d-4214-8adf-7c5114849a30",
   "metadata": {},
   "outputs": [],
   "source": []
  }
 ],
 "metadata": {
  "kernelspec": {
   "display_name": "Python 3 (ipykernel)",
   "language": "python",
   "name": "python3"
  },
  "language_info": {
   "codemirror_mode": {
    "name": "ipython",
    "version": 3
   },
   "file_extension": ".py",
   "mimetype": "text/x-python",
   "name": "python",
   "nbconvert_exporter": "python",
   "pygments_lexer": "ipython3",
   "version": "3.10.4"
  }
 },
 "nbformat": 4,
 "nbformat_minor": 5
}
